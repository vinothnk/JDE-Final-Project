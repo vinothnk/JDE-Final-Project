{
 "cells": [
  {
   "cell_type": "markdown",
   "id": "7da3b7e5",
   "metadata": {},
   "source": [
    "# importing libraries needed. then use import.os to access kaggle API"
   ]
  },
  {
   "cell_type": "code",
   "execution_count": 1,
   "id": "f8fb7a85",
   "metadata": {},
   "outputs": [],
   "source": [
    "import os\n",
    "import pandas as pd\n",
    "import numpy as np\n",
    "import psycopg2\n",
    "from sqlalchemy import create_engine\n",
    "\n",
    "os.environ['KAGGLE_USERNAME'] = \"vinothnk\"\n",
    "os.environ['KAGGLE_KEY'] = \"418378f21fb977c1f1ff44a5ebc60323\""
   ]
  },
  {
   "cell_type": "code",
   "execution_count": 2,
   "id": "80b5c80c",
   "metadata": {},
   "outputs": [],
   "source": [
    "#increase row and column size for better viewing of data\n",
    "pd.set_option('display.max_rows', 25)\n",
    "pd.set_option('display.max_columns', 25)"
   ]
  },
  {
   "cell_type": "markdown",
   "id": "017a770c",
   "metadata": {},
   "source": [
    "# download datasets from url using kaggle API"
   ]
  },
  {
   "cell_type": "code",
   "execution_count": 3,
   "id": "f68a9bf2",
   "metadata": {},
   "outputs": [],
   "source": [
    "# import kaggle\n",
    "\n",
    "# kaggle.api.dataset_download_files('olistbr/brazilian-ecommerce', path='./data', unzip=True)"
   ]
  },
  {
   "cell_type": "code",
   "execution_count": 4,
   "id": "89aa0b42",
   "metadata": {},
   "outputs": [],
   "source": [
    "#importing csv files into dataframes\n",
    "\n",
    "customers_dataset = pd.read_csv('data/olist_customers_dataset.csv')\n",
    "geolocation_dataset = pd.read_csv('data/olist_geolocation_dataset.csv')\n",
    "order_items_dataset = pd.read_csv('data/olist_order_items_dataset.csv')\n",
    "order_payments_dataset = pd.read_csv('data/olist_order_payments_dataset.csv')\n",
    "order_reviews_dataset = pd.read_csv('data/olist_order_reviews_dataset.csv')\n",
    "orders_dataset = pd.read_csv('data/olist_orders_dataset.csv')\n",
    "products_dataset = pd.read_csv('data/olist_products_dataset.csv')\n",
    "sellers_dataset = pd.read_csv('data/olist_sellers_dataset.csv')\n",
    "product_category_name_translation_dataset = pd.read_csv('data/product_category_name_translation.csv')"
   ]
  },
  {
   "cell_type": "markdown",
   "id": "3ebab4f0",
   "metadata": {},
   "source": [
    "# Functions to check the following:\n",
    "\n",
    "#### 1. check the type of data types for the columns\n",
    "#### 2. check the shape of the dataset (rows, columns)\n",
    "#### 3. check for unique rows - if it matches the shape, no duplicates in the dataframe\n",
    "#### 4. check for null values in dataframe"
   ]
  },
  {
   "cell_type": "code",
   "execution_count": 5,
   "id": "1f185b5d",
   "metadata": {},
   "outputs": [],
   "source": [
    "def check_data_types(dataframe):\n",
    "    print(f\"{key} has the following data types:\")\n",
    "    print(dataframe.dtypes)\n",
    "    return"
   ]
  },
  {
   "cell_type": "code",
   "execution_count": 6,
   "id": "62136ab4",
   "metadata": {},
   "outputs": [],
   "source": [
    "def check_data_shape(dataframe):\n",
    "    print(f\"The {key} has the following shape, {dataframe.shape[0]} rows & {dataframe.shape[1]} columns.\")\n",
    "    return"
   ]
  },
  {
   "cell_type": "code",
   "execution_count": 7,
   "id": "94a9dae8",
   "metadata": {},
   "outputs": [],
   "source": [
    "def check_unique_rows(dataframe):\n",
    "    print(f\"The {key} has {dataframe.drop_duplicates().shape[0]} unique rows.\")\n",
    "    return"
   ]
  },
  {
   "cell_type": "code",
   "execution_count": 8,
   "id": "40ea9b27",
   "metadata": {},
   "outputs": [],
   "source": [
    "def check_null_values(dataframe):\n",
    "    print(f\"The {key} has the following missing values:\")\n",
    "    print(dataframe.isnull().sum())\n",
    "    return"
   ]
  },
  {
   "cell_type": "markdown",
   "id": "b67bd75e",
   "metadata": {},
   "source": [
    "# create a dictionary to call the name of each dataframe"
   ]
  },
  {
   "cell_type": "code",
   "execution_count": 9,
   "id": "5f6478e2",
   "metadata": {},
   "outputs": [],
   "source": [
    "# Create a dictionary with names as keys and dataframes as values\n",
    "dataframes = {\n",
    "    'customers_dataset': customers_dataset,\n",
    "    'geolocation_dataset': geolocation_dataset,\n",
    "    'order_items_dataset': order_items_dataset,\n",
    "    'order_payments_dataset': order_payments_dataset,\n",
    "    'order_reviews_dataset': order_reviews_dataset,\n",
    "    'orders_dataset': orders_dataset,\n",
    "    'products_dataset': products_dataset,\n",
    "    'sellers_dataset': sellers_dataset,\n",
    "    'product_category_name_translation_dataset': product_category_name_translation_dataset\n",
    "}"
   ]
  },
  {
   "cell_type": "markdown",
   "id": "a0d407c6",
   "metadata": {},
   "source": [
    "# using a for loop, run the different functions to check the necessary"
   ]
  },
  {
   "cell_type": "code",
   "execution_count": 10,
   "id": "b0388611",
   "metadata": {},
   "outputs": [
    {
     "name": "stdout",
     "output_type": "stream",
     "text": [
      "customers_dataset has the following data types:\n",
      "customer_id                 object\n",
      "customer_unique_id          object\n",
      "customer_zip_code_prefix     int64\n",
      "customer_city               object\n",
      "customer_state              object\n",
      "dtype: object\n",
      " \n",
      "The customers_dataset has the following shape, 99441 rows & 5 columns.\n",
      "The customers_dataset has 99441 unique rows.\n",
      " \n",
      "The customers_dataset has the following missing values:\n",
      "customer_id                 0\n",
      "customer_unique_id          0\n",
      "customer_zip_code_prefix    0\n",
      "customer_city               0\n",
      "customer_state              0\n",
      "dtype: int64\n",
      " \n",
      " \n",
      "geolocation_dataset has the following data types:\n",
      "geolocation_zip_code_prefix      int64\n",
      "geolocation_lat                float64\n",
      "geolocation_lng                float64\n",
      "geolocation_city                object\n",
      "geolocation_state               object\n",
      "dtype: object\n",
      " \n",
      "The geolocation_dataset has the following shape, 1000163 rows & 5 columns.\n",
      "The geolocation_dataset has 738332 unique rows.\n",
      " \n",
      "The geolocation_dataset has the following missing values:\n",
      "geolocation_zip_code_prefix    0\n",
      "geolocation_lat                0\n",
      "geolocation_lng                0\n",
      "geolocation_city               0\n",
      "geolocation_state              0\n",
      "dtype: int64\n",
      " \n",
      " \n",
      "order_items_dataset has the following data types:\n",
      "order_id                object\n",
      "order_item_id            int64\n",
      "product_id              object\n",
      "seller_id               object\n",
      "shipping_limit_date     object\n",
      "price                  float64\n",
      "freight_value          float64\n",
      "dtype: object\n",
      " \n",
      "The order_items_dataset has the following shape, 112650 rows & 7 columns.\n",
      "The order_items_dataset has 112650 unique rows.\n",
      " \n",
      "The order_items_dataset has the following missing values:\n",
      "order_id               0\n",
      "order_item_id          0\n",
      "product_id             0\n",
      "seller_id              0\n",
      "shipping_limit_date    0\n",
      "price                  0\n",
      "freight_value          0\n",
      "dtype: int64\n",
      " \n",
      " \n",
      "order_payments_dataset has the following data types:\n",
      "order_id                 object\n",
      "payment_sequential        int64\n",
      "payment_type             object\n",
      "payment_installments      int64\n",
      "payment_value           float64\n",
      "dtype: object\n",
      " \n",
      "The order_payments_dataset has the following shape, 103886 rows & 5 columns.\n",
      "The order_payments_dataset has 103886 unique rows.\n",
      " \n",
      "The order_payments_dataset has the following missing values:\n",
      "order_id                0\n",
      "payment_sequential      0\n",
      "payment_type            0\n",
      "payment_installments    0\n",
      "payment_value           0\n",
      "dtype: int64\n",
      " \n",
      " \n",
      "order_reviews_dataset has the following data types:\n",
      "review_id                  object\n",
      "order_id                   object\n",
      "review_score                int64\n",
      "review_comment_title       object\n",
      "review_comment_message     object\n",
      "review_creation_date       object\n",
      "review_answer_timestamp    object\n",
      "dtype: object\n",
      " \n",
      "The order_reviews_dataset has the following shape, 99224 rows & 7 columns.\n",
      "The order_reviews_dataset has 99224 unique rows.\n",
      " \n",
      "The order_reviews_dataset has the following missing values:\n",
      "review_id                      0\n",
      "order_id                       0\n",
      "review_score                   0\n",
      "review_comment_title       87656\n",
      "review_comment_message     58247\n",
      "review_creation_date           0\n",
      "review_answer_timestamp        0\n",
      "dtype: int64\n",
      " \n",
      " \n",
      "orders_dataset has the following data types:\n",
      "order_id                         object\n",
      "customer_id                      object\n",
      "order_status                     object\n",
      "order_purchase_timestamp         object\n",
      "order_approved_at                object\n",
      "order_delivered_carrier_date     object\n",
      "order_delivered_customer_date    object\n",
      "order_estimated_delivery_date    object\n",
      "dtype: object\n",
      " \n",
      "The orders_dataset has the following shape, 99441 rows & 8 columns.\n",
      "The orders_dataset has 99441 unique rows.\n",
      " \n",
      "The orders_dataset has the following missing values:\n",
      "order_id                            0\n",
      "customer_id                         0\n",
      "order_status                        0\n",
      "order_purchase_timestamp            0\n",
      "order_approved_at                 160\n",
      "order_delivered_carrier_date     1783\n",
      "order_delivered_customer_date    2965\n",
      "order_estimated_delivery_date       0\n",
      "dtype: int64\n",
      " \n",
      " \n",
      "products_dataset has the following data types:\n",
      "product_id                     object\n",
      "product_category_name          object\n",
      "product_name_lenght           float64\n",
      "product_description_lenght    float64\n",
      "product_photos_qty            float64\n",
      "product_weight_g              float64\n",
      "product_length_cm             float64\n",
      "product_height_cm             float64\n",
      "product_width_cm              float64\n",
      "dtype: object\n",
      " \n",
      "The products_dataset has the following shape, 32951 rows & 9 columns.\n",
      "The products_dataset has 32951 unique rows.\n",
      " \n",
      "The products_dataset has the following missing values:\n",
      "product_id                      0\n",
      "product_category_name         610\n",
      "product_name_lenght           610\n",
      "product_description_lenght    610\n",
      "product_photos_qty            610\n",
      "product_weight_g                2\n",
      "product_length_cm               2\n",
      "product_height_cm               2\n",
      "product_width_cm                2\n",
      "dtype: int64\n",
      " \n",
      " \n",
      "sellers_dataset has the following data types:\n",
      "seller_id                 object\n",
      "seller_zip_code_prefix     int64\n",
      "seller_city               object\n",
      "seller_state              object\n",
      "dtype: object\n",
      " \n",
      "The sellers_dataset has the following shape, 3095 rows & 4 columns.\n",
      "The sellers_dataset has 3095 unique rows.\n",
      " \n",
      "The sellers_dataset has the following missing values:\n",
      "seller_id                 0\n",
      "seller_zip_code_prefix    0\n",
      "seller_city               0\n",
      "seller_state              0\n",
      "dtype: int64\n",
      " \n",
      " \n",
      "product_category_name_translation_dataset has the following data types:\n",
      "product_category_name            object\n",
      "product_category_name_english    object\n",
      "dtype: object\n",
      " \n",
      "The product_category_name_translation_dataset has the following shape, 71 rows & 2 columns.\n",
      "The product_category_name_translation_dataset has 71 unique rows.\n",
      " \n",
      "The product_category_name_translation_dataset has the following missing values:\n",
      "product_category_name            0\n",
      "product_category_name_english    0\n",
      "dtype: int64\n",
      " \n",
      " \n"
     ]
    }
   ],
   "source": [
    "for key,values in dataframes.items():\n",
    "    check_data_types(values)\n",
    "    print(\" \")\n",
    "    check_data_shape(values)\n",
    "    check_unique_rows(values)\n",
    "    print(\" \")\n",
    "    check_null_values(values)\n",
    "    print(\" \")\n",
    "    print(\" \")"
   ]
  },
  {
   "cell_type": "markdown",
   "id": "122735cd",
   "metadata": {},
   "source": [
    "# customers_dataset cleaning\n",
    "#### 1. Ensure `customer_zip_code_prefix` is numeric and standardize its length if needed"
   ]
  },
  {
   "cell_type": "code",
   "execution_count": 11,
   "id": "dfc6cd87",
   "metadata": {},
   "outputs": [],
   "source": [
    "# Ensure `customer_zip_code_prefix` is numeric and standardize its length if needed\n",
    "customers_dataset['customer_zip_code_prefix'] = customers_dataset['customer_zip_code_prefix'].astype(str).str.zfill(5)\n",
    "#customers_dataset"
   ]
  },
  {
   "cell_type": "markdown",
   "id": "bf217fdb",
   "metadata": {},
   "source": [
    "# geo_dataset cleaning:\n",
    "\n",
    "#### 1. standardizing geolocation_zip_code to 5 characters"
   ]
  },
  {
   "cell_type": "code",
   "execution_count": 12,
   "id": "b3d2cd20",
   "metadata": {},
   "outputs": [],
   "source": [
    "# Ensure `geolocation_zip_code_prefix` is numeric and standardize its length if needed\n",
    "geolocation_dataset['geolocation_zip_code_prefix'] = geolocation_dataset['geolocation_zip_code_prefix'].astype(str).str.zfill(5)\n",
    "#geo_dataset"
   ]
  },
  {
   "cell_type": "markdown",
   "id": "13d2c194",
   "metadata": {},
   "source": [
    "#### 2. standardizing the city, state names to lowercase & removing whitespaces"
   ]
  },
  {
   "cell_type": "code",
   "execution_count": 13,
   "id": "d79a3a8f",
   "metadata": {},
   "outputs": [],
   "source": [
    "# Standardizing the city and state names by converting them to lowercase and stripping any leading/trailing whitespace\n",
    "geolocation_dataset['geolocation_city'] = geolocation_dataset['geolocation_city'].str.lower().str.strip()\n",
    "geolocation_dataset['geolocation_state'] = geolocation_dataset['geolocation_state'].str.upper().str.strip()\n",
    "\n",
    "#geo_dataset"
   ]
  },
  {
   "cell_type": "markdown",
   "id": "ee4601e7",
   "metadata": {},
   "source": [
    "#### 3. creating a mapping dictionary for known city name variations"
   ]
  },
  {
   "cell_type": "code",
   "execution_count": 14,
   "id": "9bcc7603",
   "metadata": {},
   "outputs": [],
   "source": [
    "# Correcting common city name variations\n",
    "# Creating a mapping dictionary for known variations\n",
    "city_corrections = {\n",
    "    'sao paulo': 'sao paulo',\n",
    "    'sãopaulo': 'sao paulo',\n",
    "    'são paulo': 'sao paulo',\n",
    "    'sa£o paulo': 'sao paulo',\n",
    "    'sp': 'sao paulo',  # assuming 'sp' is intended to be 'são paulo'\n",
    "    'carapicuiba': 'carapicuíba',\n",
    "    'sao bernardo do campo': 'sao bernardo do campo',\n",
    "    'taboão da serra': 'taboao da serra',\n",
    "    'jundiaí': 'jundiaí',\n",
    "    # Add more corrections as needed\n",
    "}\n",
    "\n",
    "# Applying the corrections\n",
    "geolocation_dataset['geolocation_city'] = geolocation_dataset['geolocation_city'].replace(city_corrections)\n",
    "#geo_dataset"
   ]
  },
  {
   "cell_type": "code",
   "execution_count": null,
   "id": "58885896",
   "metadata": {},
   "outputs": [],
   "source": []
  },
  {
   "cell_type": "markdown",
   "id": "0d149f49",
   "metadata": {},
   "source": [
    "# order_items_dataset datetime conversion\n",
    "\n",
    "#### 1. Convert 'shipping_limit_date' to datetime format"
   ]
  },
  {
   "cell_type": "code",
   "execution_count": 15,
   "id": "bd986d8b",
   "metadata": {},
   "outputs": [],
   "source": [
    "# Convert 'shipping_limit_date' to datetime format\n",
    "order_items_dataset['shipping_limit_date'] = pd.to_datetime(order_items_dataset['shipping_limit_date'])\n",
    "#order_items_dataset"
   ]
  },
  {
   "cell_type": "code",
   "execution_count": null,
   "id": "db60eccd",
   "metadata": {},
   "outputs": [],
   "source": []
  },
  {
   "cell_type": "markdown",
   "id": "3343fbc5",
   "metadata": {},
   "source": [
    "# order_reviews_dataset\n",
    "#### 1. Fill null values with a constant value in order_reviews_dataset"
   ]
  },
  {
   "cell_type": "code",
   "execution_count": 16,
   "id": "3a1bbcf5",
   "metadata": {},
   "outputs": [
    {
     "name": "stdout",
     "output_type": "stream",
     "text": [
      "review_id                      0\n",
      "order_id                       0\n",
      "review_score                   0\n",
      "review_comment_title       87656\n",
      "review_comment_message     58247\n",
      "review_creation_date           0\n",
      "review_answer_timestamp        0\n",
      "dtype: int64\n"
     ]
    }
   ],
   "source": [
    "print(order_reviews_dataset.isna().sum())"
   ]
  },
  {
   "cell_type": "code",
   "execution_count": 17,
   "id": "3de8e8c7",
   "metadata": {},
   "outputs": [],
   "source": [
    "#Fill null values with a constant value in order_reviews tabe\n",
    "order_reviews_dataset[\"review_comment_title\"] = order_reviews_dataset[\"review_comment_title\"].fillna(\"No Title\")\n",
    "order_reviews_dataset[\"review_comment_message\"] = order_reviews_dataset[\"review_comment_message\"].fillna(\"No Comment\")"
   ]
  },
  {
   "cell_type": "code",
   "execution_count": 18,
   "id": "963c13c7",
   "metadata": {},
   "outputs": [
    {
     "name": "stdout",
     "output_type": "stream",
     "text": [
      "review_id                  0\n",
      "order_id                   0\n",
      "review_score               0\n",
      "review_comment_title       0\n",
      "review_comment_message     0\n",
      "review_creation_date       0\n",
      "review_answer_timestamp    0\n",
      "dtype: int64\n"
     ]
    }
   ],
   "source": [
    "print(order_reviews_dataset.isna().sum())"
   ]
  },
  {
   "cell_type": "code",
   "execution_count": null,
   "id": "655e05ef",
   "metadata": {},
   "outputs": [],
   "source": []
  },
  {
   "cell_type": "markdown",
   "id": "c954ccb2",
   "metadata": {},
   "source": [
    "#### 2. Remove rows with any null values in orders table"
   ]
  },
  {
   "cell_type": "code",
   "execution_count": 19,
   "id": "c83f7547",
   "metadata": {},
   "outputs": [
    {
     "data": {
      "text/plain": [
       "order_id                            0\n",
       "customer_id                         0\n",
       "order_status                        0\n",
       "order_purchase_timestamp            0\n",
       "order_approved_at                 160\n",
       "order_delivered_carrier_date     1783\n",
       "order_delivered_customer_date    2965\n",
       "order_estimated_delivery_date       0\n",
       "dtype: int64"
      ]
     },
     "execution_count": 19,
     "metadata": {},
     "output_type": "execute_result"
    }
   ],
   "source": [
    "#check for null values in orders_dataset\n",
    "orders_dataset.isna().sum()"
   ]
  },
  {
   "cell_type": "code",
   "execution_count": 20,
   "id": "fb604e2d",
   "metadata": {},
   "outputs": [
    {
     "name": "stdout",
     "output_type": "stream",
     "text": [
      "<class 'pandas.core.frame.DataFrame'>\n",
      "RangeIndex: 99441 entries, 0 to 99440\n",
      "Data columns (total 8 columns):\n",
      " #   Column                         Non-Null Count  Dtype         \n",
      "---  ------                         --------------  -----         \n",
      " 0   order_id                       99441 non-null  object        \n",
      " 1   customer_id                    99441 non-null  object        \n",
      " 2   order_status                   99441 non-null  object        \n",
      " 3   order_purchase_timestamp       99441 non-null  datetime64[ns]\n",
      " 4   order_approved_at              99281 non-null  object        \n",
      " 5   order_delivered_carrier_date   97658 non-null  object        \n",
      " 6   order_delivered_customer_date  96476 non-null  object        \n",
      " 7   order_estimated_delivery_date  99441 non-null  object        \n",
      "dtypes: datetime64[ns](1), object(7)\n",
      "memory usage: 6.1+ MB\n"
     ]
    }
   ],
   "source": [
    "change_to_datetime = {'order_purchase_timestamp':'order_purchase_timestamp',\n",
    "                      'order_approved_at':'order_approved_at',\n",
    "                      'order_delivered_carrier_date':'order_delivered_carrier_date',\n",
    "                      'order_delivered_customer_date':'order_delivered_customer_date',\n",
    "                      'order_estimated_delivery_date':'order_estimated_delivery_date'}\n",
    "\n",
    "def change_all_columns_to_datetime():\n",
    "    for i in change_to_datetime:\n",
    "        #print(i)\n",
    "        orders_dataset[i] = pd.to_datetime(orders_dataset[i])\n",
    "        return orders_dataset.info()\n",
    "\n",
    "change_all_columns_to_datetime()"
   ]
  },
  {
   "cell_type": "code",
   "execution_count": 21,
   "id": "bbb073f3",
   "metadata": {},
   "outputs": [
    {
     "data": {
      "text/plain": [
       "order_id                            0\n",
       "customer_id                         0\n",
       "order_status                        0\n",
       "order_purchase_timestamp            0\n",
       "order_approved_at                 160\n",
       "order_delivered_carrier_date     1783\n",
       "order_delivered_customer_date    2965\n",
       "order_estimated_delivery_date       0\n",
       "dtype: int64"
      ]
     },
     "execution_count": 21,
     "metadata": {},
     "output_type": "execute_result"
    }
   ],
   "source": [
    "orders_dataset.isna().sum()"
   ]
  },
  {
   "cell_type": "code",
   "execution_count": 22,
   "id": "bf682326",
   "metadata": {},
   "outputs": [
    {
     "data": {
      "text/plain": [
       "order_id                         0\n",
       "customer_id                      0\n",
       "order_status                     0\n",
       "order_purchase_timestamp         0\n",
       "order_approved_at                0\n",
       "order_delivered_carrier_date     0\n",
       "order_delivered_customer_date    0\n",
       "order_estimated_delivery_date    0\n",
       "dtype: int64"
      ]
     },
     "execution_count": 22,
     "metadata": {},
     "output_type": "execute_result"
    }
   ],
   "source": [
    "def fill_timestamp():\n",
    "    for x in orders_dataset:\n",
    "        orders_dataset[x] = orders_dataset[x].fillna(pd.Timestamp(\"1970-01-01 00:00:00\"))\n",
    "    return orders_dataset.isna().sum()\n",
    "\n",
    "fill_timestamp()"
   ]
  },
  {
   "cell_type": "code",
   "execution_count": null,
   "id": "06e73d0a",
   "metadata": {},
   "outputs": [],
   "source": []
  },
  {
   "cell_type": "markdown",
   "id": "a2265782",
   "metadata": {},
   "source": [
    "# products_dataset\n",
    "\n",
    "#### 1. rename column names"
   ]
  },
  {
   "cell_type": "code",
   "execution_count": 23,
   "id": "838c9bc7",
   "metadata": {},
   "outputs": [],
   "source": [
    "#rename column names\n",
    "products_dataset = products_dataset.rename(columns={'product_name_lenght':'product_name_length', \n",
    "                                                    'product_description_lenght':'product_description_length', \n",
    "                                                    'product_weight_g':'product_weight_grams'})"
   ]
  },
  {
   "cell_type": "markdown",
   "id": "088f4981-a401-4924-8872-04b921544725",
   "metadata": {},
   "source": [
    " #### 2. Replacing product_category_name with translated version & corrected spelling in values."
   ]
  },
  {
   "cell_type": "code",
   "execution_count": 24,
   "id": "fc7eada5-5d12-4214-89b7-087ebb2d0ca9",
   "metadata": {},
   "outputs": [],
   "source": [
    "# Create a dictionary from the translation dataset\n",
    "translation_dict = dict(zip(\n",
    "    product_category_name_translation_dataset['product_category_name'],\n",
    "    product_category_name_translation_dataset['product_category_name_english']))\n",
    "\n",
    "# Use map to translate product category names\n",
    "products_dataset['product_category_name'] = products_dataset['product_category_name'].map(translation_dict)"
   ]
  },
  {
   "cell_type": "code",
   "execution_count": 25,
   "id": "44094a6a-f6f5-4432-b8f3-3538f08bf65e",
   "metadata": {},
   "outputs": [],
   "source": [
    "products_dataset['product_category_name'] = products_dataset['product_category_name'].replace({'auto':'automotives', 'perfumery':'perfume', \n",
    "                                                                                       'telephony':'handphone', 'baby':'baby_items', 'stationery':'stationaries',\n",
    "                                                                                       'fixed_telephony': 'telephone', 'home_confort':'house_comfort'})"
   ]
  },
  {
   "cell_type": "markdown",
   "id": "0b8d4d27",
   "metadata": {},
   "source": [
    "#### 3. Check for null values in each row"
   ]
  },
  {
   "cell_type": "code",
   "execution_count": 26,
   "id": "5f70970e",
   "metadata": {},
   "outputs": [
    {
     "data": {
      "text/plain": [
       "product_id                      0\n",
       "product_category_name         623\n",
       "product_name_length           610\n",
       "product_description_length    610\n",
       "product_photos_qty            610\n",
       "product_weight_grams            2\n",
       "product_length_cm               2\n",
       "product_height_cm               2\n",
       "product_width_cm                2\n",
       "dtype: int64"
      ]
     },
     "execution_count": 26,
     "metadata": {},
     "output_type": "execute_result"
    }
   ],
   "source": [
    "products_dataset.isnull().sum()"
   ]
  },
  {
   "cell_type": "markdown",
   "id": "8a5d790b-e760-4ef1-9efb-3a8acfb3740e",
   "metadata": {},
   "source": [
    "#### 4. fill empty values with appropriate values to preserve the row."
   ]
  },
  {
   "cell_type": "code",
   "execution_count": 27,
   "id": "d1b48758-781e-4295-8a83-b03200dc57ed",
   "metadata": {},
   "outputs": [],
   "source": [
    "def products_fill_values():\n",
    "    products_dataset['product_category_name'] = products_dataset['product_category_name'].fillna('No Name')\n",
    "    products_dataset['product_name_length'] = products_dataset['product_name_length'].fillna(0)\n",
    "    products_dataset['product_length_cm'] = products_dataset['product_length_cm'].fillna(0)\n",
    "    products_dataset['product_description_length'] = products_dataset['product_description_length'].fillna(0)\n",
    "    products_dataset['product_photos_qty'] = products_dataset['product_photos_qty'].fillna(0)\n",
    "    products_dataset['product_weight_grams'] = products_dataset['product_weight_grams'].fillna(0)\n",
    "    products_dataset['product_length_cm'] = products_dataset['product_length_cm'].fillna(0)\n",
    "    products_dataset['product_height_cm'] = products_dataset['product_height_cm'].fillna(0)\n",
    "    products_dataset['product_width_cm'] = products_dataset['product_width_cm'].fillna(0)\n",
    "    return products_dataset.isnull().sum()"
   ]
  },
  {
   "cell_type": "code",
   "execution_count": 28,
   "id": "db7c17e2",
   "metadata": {},
   "outputs": [
    {
     "data": {
      "text/plain": [
       "product_id                    0\n",
       "product_category_name         0\n",
       "product_name_length           0\n",
       "product_description_length    0\n",
       "product_photos_qty            0\n",
       "product_weight_grams          0\n",
       "product_length_cm             0\n",
       "product_height_cm             0\n",
       "product_width_cm              0\n",
       "dtype: int64"
      ]
     },
     "execution_count": 28,
     "metadata": {},
     "output_type": "execute_result"
    }
   ],
   "source": [
    "#final check for missing values in products dataset\n",
    "products_fill_values()"
   ]
  },
  {
   "cell_type": "code",
   "execution_count": null,
   "id": "1473a70b-f87b-4835-a4af-154fb9b84881",
   "metadata": {},
   "outputs": [],
   "source": []
  },
  {
   "cell_type": "markdown",
   "id": "0e9e3fef-dd1b-4f6f-b1c1-1fc13bf75995",
   "metadata": {},
   "source": [
    "# sellers_dataset cleaning"
   ]
  },
  {
   "cell_type": "markdown",
   "id": "227c99dc-0d7e-4012-94eb-4614baaab764",
   "metadata": {},
   "source": [
    "#### 1. change zip_code_prefix to 5 characters to match with geolocation_zip_code_prefix"
   ]
  },
  {
   "cell_type": "code",
   "execution_count": 29,
   "id": "16521082-c452-495a-900c-32ceffbc0b74",
   "metadata": {},
   "outputs": [],
   "source": [
    "sellers_dataset['seller_zip_code_prefix'] = sellers_dataset['seller_zip_code_prefix'].astype(str).str.zfill(5)"
   ]
  },
  {
   "cell_type": "code",
   "execution_count": 30,
   "id": "cbb3cd61",
   "metadata": {},
   "outputs": [
    {
     "data": {
      "text/plain": [
       "0       13023\n",
       "1       13844\n",
       "2       20031\n",
       "3       04195\n",
       "4       12914\n",
       "        ...  \n",
       "3090    87111\n",
       "3091    88137\n",
       "3092    04650\n",
       "3093    96080\n",
       "3094    12051\n",
       "Name: seller_zip_code_prefix, Length: 3095, dtype: object"
      ]
     },
     "execution_count": 30,
     "metadata": {},
     "output_type": "execute_result"
    }
   ],
   "source": [
    "sellers_dataset['seller_zip_code_prefix']"
   ]
  },
  {
   "cell_type": "code",
   "execution_count": 31,
   "id": "5e7fe7df-e801-4a93-98f3-0d7c71025136",
   "metadata": {},
   "outputs": [],
   "source": [
    "orders_dataset.to_csv('orders_dataset.csv', index=False)\n",
    "order_items_dataset.to_csv('order_items_dataset.csv', index=False)\n",
    "order_payments_dataset.to_csv('order_payments_dataset.csv', index=False)\n",
    "order_reviews_dataset.to_csv('order_reviews_dataset.csv', index=False)\n",
    "customers_dataset.to_csv('customers_dataset.csv', index=False)\n",
    "products_dataset.to_csv('products_dataset.csv', index=False)\n",
    "sellers_dataset.to_csv('sellers_dataset.csv', index=False)\n",
    "geolocation_dataset.to_csv('geolocation_dataset.csv', index=False)"
   ]
  },
  {
   "cell_type": "code",
   "execution_count": null,
   "id": "ffe622b3-ebc2-4159-bb45-c80f0308229c",
   "metadata": {},
   "outputs": [],
   "source": []
  },
  {
   "cell_type": "code",
   "execution_count": null,
   "id": "f036d2a9",
   "metadata": {},
   "outputs": [],
   "source": []
  },
  {
   "cell_type": "markdown",
   "id": "1ab14b20",
   "metadata": {},
   "source": [
    "# Tables Creation"
   ]
  },
  {
   "cell_type": "markdown",
   "id": "6324212f-99b7-498d-85fa-6b4a3118e980",
   "metadata": {},
   "source": [
    "**Connecting to postgres database**"
   ]
  },
  {
   "cell_type": "code",
   "execution_count": 32,
   "id": "5e6f999d-8beb-4963-9973-6b5ee2539596",
   "metadata": {},
   "outputs": [
    {
     "name": "stdout",
     "output_type": "stream",
     "text": [
      "Connection successful\n"
     ]
    }
   ],
   "source": [
    "try: \n",
    "    conn = psycopg2.connect(\n",
    "        host=\"localhost\",\n",
    "        port=\"5432\",  # Specify port as a separate argument\n",
    "        dbname=\"postgres\",\n",
    "        user=\"postgres\",\n",
    "        password=\"password\"  # Replace 'your_password' with the actual password\n",
    "    )\n",
    "    print(\"Connection successful\")\n",
    "except psycopg2.Error as e: \n",
    "    print(\"Error: Could not make connection to the Postgres database\")\n",
    "    print(e)\n"
   ]
  },
  {
   "cell_type": "code",
   "execution_count": 33,
   "id": "b8ed774c-24bb-4ee4-b690-011924174476",
   "metadata": {},
   "outputs": [],
   "source": [
    "#Use connection to get cursor that can be used to execute queries.\n",
    "try:\n",
    "    cur = conn.cursor()\n",
    "except psycopg2.Error as e:\n",
    "    print(\"Error: Could not get cursor to the Database\")\n",
    "    print(e)"
   ]
  },
  {
   "cell_type": "code",
   "execution_count": 34,
   "id": "56e05aed-083b-4b01-936a-b2c797c02007",
   "metadata": {},
   "outputs": [],
   "source": [
    "#Set automatic commit to be true so that each action is committed without having to call conn.commit() after each command\n",
    "conn.set_session(autocommit=True)"
   ]
  },
  {
   "cell_type": "code",
   "execution_count": 35,
   "id": "38284094-2556-4c0d-af91-1c5a62d62ca5",
   "metadata": {},
   "outputs": [
    {
     "name": "stdout",
     "output_type": "stream",
     "text": [
      "database \"final_project\" already exists\n",
      "\n"
     ]
    }
   ],
   "source": [
    "#Create database to do work in\n",
    "try:\n",
    "    cur.execute(\"create database final_project\")\n",
    "except psycopg2.Error as e:\n",
    "    print(e)"
   ]
  },
  {
   "cell_type": "markdown",
   "id": "50578711-00e3-43ea-b223-14ca0313ceac",
   "metadata": {},
   "source": [
    "**Adding final DB**"
   ]
  },
  {
   "cell_type": "code",
   "execution_count": 36,
   "id": "70b52b16-4af0-40db-ad88-43bd4e827186",
   "metadata": {},
   "outputs": [],
   "source": [
    "try:\n",
    "    conn.close()\n",
    "except psycopg2.Error as e:\n",
    "    print(e)\n",
    "\n",
    "try:\n",
    "    conn = psycopg2.connect(host=\"localhost\",\n",
    "        port=\"5432\",  # Specify port as a separate argument\n",
    "        dbname=\"final_project\",\n",
    "        user=\"postgres\",\n",
    "        password=\"password\"  # Replace 'your_password' with the actual password\n",
    "        )\n",
    "except psycopg2.Error as e:\n",
    "    print(\"Error: Could not make connection to the Postgres database\")\n",
    "    print(e)\n",
    "\n",
    "try:\n",
    "    cur = conn.cursor()\n",
    "except psycopg2.Error as e:\n",
    "    print(\"Error: Could not get cursor to the Database\")\n",
    "    print(e)\n",
    "\n",
    "conn.set_session(autocommit=True)"
   ]
  },
  {
   "cell_type": "markdown",
   "id": "4613b949-e1cc-463c-9734-7eb6fe7b3b80",
   "metadata": {},
   "source": [
    "# Creating_Tables\n",
    "#### orders, order_reviews, order_payments, order_reviews, customers"
   ]
  },
  {
   "cell_type": "code",
   "execution_count": 37,
   "id": "15be4617",
   "metadata": {},
   "outputs": [],
   "source": [
    "try:\n",
    "    cur.execute(\"\"\"\n",
    "    CREATE TABLE IF NOT EXISTS orders (\n",
    "        order_id TEXT UNIQUE NOT NULL,\n",
    "        customer_id TEXT UNIQUE NOT NULL,\n",
    "        order_status TEXT,\n",
    "        order_purchase_timestamp TIMESTAMP,\n",
    "        order_approved_at TIMESTAMP,\n",
    "        order_delivered_carrier_date TIMESTAMP,        \n",
    "        order_delivered_customer_date TIMESTAMP,\n",
    "        order_estimated_delivery_date TIMESTAMP\n",
    "    ) \n",
    "    \"\"\")\n",
    "  \n",
    "except psycopg2.Error as e:\n",
    "    print(\"Error: Issue creating table\")\n",
    "    print(e)"
   ]
  },
  {
   "cell_type": "code",
   "execution_count": 38,
   "id": "b9e09617",
   "metadata": {},
   "outputs": [],
   "source": [
    "try:\n",
    "    cur.execute(\"\"\"\n",
    "    CREATE TABLE IF NOT EXISTS order_reviews (\n",
    "        review_id TEXT ,\n",
    "        review_score NUMERIC,\n",
    "        review_comment_title TEXT,      \n",
    "        review_comment_message TEXT,\n",
    "        review_creation_date TIMESTAMP,\n",
    "        review_answer_timestamp TIMESTAMP,\n",
    "        order_id TEXT UNIQUE NOT NULL,\n",
    "        PRIMARY KEY (order_id)\n",
    "    )\n",
    "    \"\"\")\n",
    "   \n",
    "except psycopg2.Error as e:\n",
    "    print(\"Error: Issue creating table\")\n",
    "    print(e)"
   ]
  },
  {
   "cell_type": "code",
   "execution_count": 39,
   "id": "3b242e21",
   "metadata": {},
   "outputs": [],
   "source": [
    "try:\n",
    "    cur.execute(\"\"\"\n",
    "    CREATE TABLE IF NOT EXISTS order_payments (\n",
    "        order_id TEXT,\n",
    "        payment_sequential NUMERIC,\n",
    "        payment_type TEXT,\n",
    "        payment_installments NUMERIC,\n",
    "        payment_value DECIMAL(10, 2)\n",
    "    )\n",
    "    \"\"\")\n",
    "    \n",
    "except psycopg2.Error as e:\n",
    "    print(\"Error: Issue creating table\")\n",
    "    print(e)"
   ]
  },
  {
   "cell_type": "code",
   "execution_count": 40,
   "id": "0e813c2e-ee45-48d5-bb53-5506b73290e9",
   "metadata": {},
   "outputs": [],
   "source": [
    "#order_items\n",
    "try: \n",
    "    cur.execute(\"\"\"\n",
    "    CREATE TABLE IF NOT EXISTS order_items (\n",
    "        order_id TEXT,\n",
    "        order_item_id TEXT,\n",
    "        product_id TEXT UNIQUE NOT NULL,\n",
    "        seller_id TEXT UNIQUE NOT NULL,\n",
    "        shipping_limit_date TIMESTAMP,\n",
    "        price DOUBLE PRECISION,\n",
    "        freight_value DOUBLE PRECISION\n",
    "        );\n",
    "    \"\"\")\n",
    "except psycopg2.Error as e: \n",
    "    print(\"Error: Issue creating table\")\n",
    "    print(e)"
   ]
  },
  {
   "cell_type": "code",
   "execution_count": 41,
   "id": "73b4b211-8596-4286-a866-ce001aa64bce",
   "metadata": {},
   "outputs": [],
   "source": [
    "#customer table\n",
    "try: \n",
    "    cur.execute(\"\"\"\n",
    "    CREATE TABLE IF NOT EXISTS customers (\n",
    "        customer_id TEXT UNIQUE NOT NULL,\n",
    "        customer_unique_id TEXT,\n",
    "        customer_zip_code_prefix INT UNIQUE NOT NULL,\n",
    "        customer_city TEXT,\n",
    "        customer_state TEXT,\n",
    "        PRIMARY KEY (customer_id)    \n",
    "    );\n",
    "    \"\"\")\n",
    "except psycopg2.Error as e: \n",
    "    print(\"Error: Issue creating table\")\n",
    "    print(e)"
   ]
  },
  {
   "cell_type": "code",
   "execution_count": null,
   "id": "2341808d-74df-4c71-9031-ebf605e7512c",
   "metadata": {},
   "outputs": [],
   "source": []
  },
  {
   "cell_type": "markdown",
   "id": "1ecfbba0-d22a-42a7-9261-d9438fc00bf1",
   "metadata": {},
   "source": [
    "# Adding in constraints & foreign keys to respective tables IN ORDER\n",
    "#### order_reviews, order_payments, customers, order_items"
   ]
  },
  {
   "cell_type": "code",
   "execution_count": 42,
   "id": "0c45054c-a490-41be-b441-942ed277f14e",
   "metadata": {},
   "outputs": [
    {
     "name": "stdout",
     "output_type": "stream",
     "text": [
      "Error: Issue creating table\n",
      "constraint \"order_reviews_fkey\" for relation \"order_reviews\" already exists\n",
      "\n"
     ]
    }
   ],
   "source": [
    "#adding constraint FK to order_reviews REFERENCING orders\n",
    "try:\n",
    "    cur.execute(\"\"\"\n",
    "    ALTER TABLE order_reviews\n",
    "        ADD CONSTRAINT order_reviews_fkey\n",
    "            FOREIGN KEY (order_id)\n",
    "                REFERENCES orders (order_id)\n",
    "        \"\"\")\n",
    "\n",
    "except psycopg2.Error as e:\n",
    "    print(\"Error: Issue creating table\")\n",
    "    print(e)"
   ]
  },
  {
   "cell_type": "code",
   "execution_count": 43,
   "id": "9558131f-2460-4456-9f7d-0a5a9bd3933e",
   "metadata": {},
   "outputs": [
    {
     "name": "stdout",
     "output_type": "stream",
     "text": [
      "Error: Issue creating table\n",
      "constraint \"order_payments_fkey\" for relation \"order_payments\" already exists\n",
      "\n"
     ]
    }
   ],
   "source": [
    "#adding constraint FK to order_payments REFERENCING orders\n",
    "try:\n",
    "    cur.execute(\"\"\"\n",
    "    ALTER TABLE order_payments\n",
    "        ADD CONSTRAINT order_payments_fkey\n",
    "            FOREIGN KEY (order_id)\n",
    "                REFERENCES orders (order_id)\n",
    "        \"\"\")\n",
    "\n",
    "except psycopg2.Error as e:\n",
    "    print(\"Error: Issue creating table\")\n",
    "    print(e)"
   ]
  },
  {
   "cell_type": "code",
   "execution_count": 44,
   "id": "00d48a9b-6e89-4ad9-9f55-5a66befc67de",
   "metadata": {},
   "outputs": [
    {
     "name": "stdout",
     "output_type": "stream",
     "text": [
      "Error: Issue creating table\n",
      "constraint \"customers_fkey\" for relation \"customers\" already exists\n",
      "\n"
     ]
    }
   ],
   "source": [
    "#adding constraint FK to customers REFERENCING orders\n",
    "try:\n",
    "    cur.execute(\"\"\"\n",
    "    ALTER TABLE customers\n",
    "        ADD CONSTRAINT customers_fkey\n",
    "            FOREIGN KEY (customer_id)\n",
    "                REFERENCES orders (customer_id)\n",
    "        \"\"\")\n",
    "\n",
    "except psycopg2.Error as e:\n",
    "    print(\"Error: Issue creating table\")\n",
    "    print(e)"
   ]
  },
  {
   "cell_type": "code",
   "execution_count": 45,
   "id": "308c2df6-137a-47e6-b3d0-587186e1f2c4",
   "metadata": {},
   "outputs": [
    {
     "name": "stdout",
     "output_type": "stream",
     "text": [
      "Error: Issue creating table\n",
      "constraint \"order_items_fkey\" for relation \"order_items\" already exists\n",
      "\n"
     ]
    }
   ],
   "source": [
    "#adding constraint FK to order_items REFERENCING orders\n",
    "try:\n",
    "    cur.execute(\"\"\"\n",
    "    ALTER TABLE order_items\n",
    "        ADD CONSTRAINT order_items_fkey\n",
    "            FOREIGN KEY (order_id)\n",
    "                REFERENCES orders (order_id)\n",
    "        \"\"\")\n",
    "\n",
    "except psycopg2.Error as e:\n",
    "    print(\"Error: Issue creating table\")\n",
    "    print(e)"
   ]
  },
  {
   "cell_type": "code",
   "execution_count": null,
   "id": "9a4fed22-6f71-454e-b5cd-94ae2812b139",
   "metadata": {},
   "outputs": [],
   "source": []
  },
  {
   "cell_type": "markdown",
   "id": "2c920413-b728-4c20-9df7-6d2708341deb",
   "metadata": {},
   "source": [
    "# creating Products table & adding in constraints & foreign key"
   ]
  },
  {
   "cell_type": "code",
   "execution_count": 46,
   "id": "cea0232c-3a6f-4a4d-87e8-548b336c4b3c",
   "metadata": {},
   "outputs": [],
   "source": [
    "try:\n",
    "    cur.execute(\"\"\"\n",
    "    CREATE TABLE IF NOT EXISTS products (\n",
    "        product_id TEXT UNIQUE NOT NULL,\n",
    "        product_name_length NUMERIC,\n",
    "        product_description_length NUMERIC,\n",
    "        product_photos_qty NUMERIC,\n",
    "        product_weight_grams NUMERIC,\n",
    "        product_length_cm NUMERIC,\n",
    "        product_height_cm NUMERIC,\n",
    "        product_width_cm NUMERIC,\n",
    "        product_category_name TEXT,\n",
    "        PRIMARY KEY (product_id)\n",
    "    )\n",
    "    \"\"\")\n",
    "    \n",
    "except psycopg2.Error as e:\n",
    "    print(\"Error: Issue creating table\")\n",
    "    print(e)"
   ]
  },
  {
   "cell_type": "code",
   "execution_count": 47,
   "id": "786e2999-9ebe-4010-9f80-e3703b1497cc",
   "metadata": {},
   "outputs": [
    {
     "name": "stdout",
     "output_type": "stream",
     "text": [
      "Error: Issue creating table\n",
      "there is no unique constraint matching given keys for referenced table \"order_items\"\n",
      "\n"
     ]
    }
   ],
   "source": [
    "#adding constraint FK to products REFERENCING order_items\n",
    "try:\n",
    "    cur.execute(\"\"\"\n",
    "    ALTER TABLE products\n",
    "        ADD CONSTRAINT products_fkey\n",
    "            FOREIGN KEY (product_id)\n",
    "                REFERENCES order_items (product_id)\n",
    "        \"\"\")\n",
    "\n",
    "except psycopg2.Error as e:\n",
    "    print(\"Error: Issue creating table\")\n",
    "    print(e)"
   ]
  },
  {
   "cell_type": "code",
   "execution_count": null,
   "id": "ece4d027-dde8-47f7-8983-95ff79648e10",
   "metadata": {},
   "outputs": [],
   "source": []
  },
  {
   "cell_type": "markdown",
   "id": "e8bd9653-4b98-492d-88e5-90ed31c15044",
   "metadata": {},
   "source": [
    "# creating sellers table & adding in constraints & foreign key"
   ]
  },
  {
   "cell_type": "code",
   "execution_count": 48,
   "id": "b5ace585",
   "metadata": {},
   "outputs": [],
   "source": [
    "try:\n",
    "    cur.execute(\"\"\"\n",
    "    CREATE TABLE IF NOT EXISTS sellers (\n",
    "        seller_id TEXT UNIQUE NOT NULL,\n",
    "        seller_zip_code_prefix INT UNIQUE NOT NULL,\n",
    "        seller_city TEXT,\n",
    "        seller_state TEXT,\n",
    "        PRIMARY KEY (seller_id)\n",
    "    )\n",
    "    \"\"\")\n",
    "    \n",
    "except psycopg2.Error as e:\n",
    "    print(\"Error: Issue creating table\")\n",
    "    print(e)"
   ]
  },
  {
   "cell_type": "code",
   "execution_count": 49,
   "id": "286f4205-779b-4444-9942-c68d4fa72af1",
   "metadata": {},
   "outputs": [
    {
     "name": "stdout",
     "output_type": "stream",
     "text": [
      "Error: Issue creating table\n",
      "there is no unique constraint matching given keys for referenced table \"order_items\"\n",
      "\n"
     ]
    }
   ],
   "source": [
    "#adding constraint FK to sellers REFERENCING order_items\n",
    "try:\n",
    "    cur.execute(\"\"\"\n",
    "    ALTER TABLE sellers\n",
    "        ADD CONSTRAINT seller_id_fkey\n",
    "            FOREIGN KEY (seller_id)\n",
    "                REFERENCES order_items (seller_id)\n",
    "        \"\"\")\n",
    "\n",
    "except psycopg2.Error as e:\n",
    "    print(\"Error: Issue creating table\")\n",
    "    print(e)"
   ]
  },
  {
   "cell_type": "code",
   "execution_count": null,
   "id": "08ba0e31-1386-4169-97e2-02083e91f53b",
   "metadata": {},
   "outputs": [],
   "source": []
  },
  {
   "cell_type": "markdown",
   "id": "57ff7d2f-ccdc-47ab-af49-778f03b40c5a",
   "metadata": {},
   "source": [
    "# creating geolocation table & adding in constraints & 2 foreign keys (sellers & customers)"
   ]
  },
  {
   "cell_type": "code",
   "execution_count": 50,
   "id": "f3724109-a8f0-4e47-8db8-4b30ffa78da5",
   "metadata": {},
   "outputs": [],
   "source": [
    "#geolocation table\n",
    "try: \n",
    "    cur.execute(\"\"\"\n",
    "    CREATE TABLE IF NOT EXISTS geolocation (\n",
    "        geolocation_zip_code_prefix INT UNIQUE NOT NULL,\n",
    "        geolocation_lat DOUBLE PRECISION,\n",
    "        geolocation_lng DOUBLE PRECISION,\n",
    "        geolocation_city TEXT,\n",
    "        geolocation_state TEXT,\n",
    "        PRIMARY KEY (geolocation_zip_code_prefix)\n",
    "        \n",
    "    );\n",
    "    \"\"\")\n",
    "except psycopg2.Error as e: \n",
    "    print(\"Error: Issue creating table\")\n",
    "    print(e)"
   ]
  },
  {
   "cell_type": "code",
   "execution_count": 51,
   "id": "3db3f8d4",
   "metadata": {},
   "outputs": [
    {
     "name": "stdout",
     "output_type": "stream",
     "text": [
      "Error: Issue creating table\n",
      "there is no unique constraint matching given keys for referenced table \"sellers\"\n",
      "\n"
     ]
    }
   ],
   "source": [
    "#adding constraint FK to geolocation REFERENCING sellers\n",
    "try:\n",
    "    cur.execute(\"\"\"\n",
    "    ALTER TABLE geolocation\n",
    "    ADD CONSTRAINT geolocation_zip_code_prefix_fkey\n",
    "        FOREIGN KEY (geolocation_zip_code_prefix)\n",
    "            REFERENCES sellers (seller_zip_code_prefix)\n",
    "        \"\"\")\n",
    "\n",
    "except psycopg2.Error as e:\n",
    "    print(\"Error: Issue creating table\")\n",
    "    print(e)"
   ]
  },
  {
   "cell_type": "code",
   "execution_count": 52,
   "id": "6f8f4683-4cf3-424b-931f-1cc47521d1df",
   "metadata": {},
   "outputs": [
    {
     "name": "stdout",
     "output_type": "stream",
     "text": [
      "Error: Issue creating table\n",
      "there is no unique constraint matching given keys for referenced table \"customers\"\n",
      "\n"
     ]
    }
   ],
   "source": [
    "#adding constraint FK to geolocation REFERENCING customers\n",
    "try:\n",
    "    cur.execute(\"\"\"\n",
    "    ALTER TABLE geolocation\n",
    "    ADD CONSTRAINT geolocation_zip_code_prefix_fkey1\n",
    "        FOREIGN KEY (geolocation_zip_code_prefix)\n",
    "            REFERENCES customers (customer_zip_code_prefix)\n",
    "        \"\"\")\n",
    "\n",
    "except psycopg2.Error as e:\n",
    "    print(\"Error: Issue creating table\")\n",
    "    print(e)"
   ]
  },
  {
   "cell_type": "code",
   "execution_count": null,
   "id": "ffeff5d0-3881-4e2b-a6f1-222e4c2281a4",
   "metadata": {},
   "outputs": [],
   "source": []
  },
  {
   "cell_type": "markdown",
   "id": "c9d0ffb8-3454-4607-b266-0abd102a4c21",
   "metadata": {},
   "source": [
    "# Inserting records to tables in reverse order of creation\n",
    "#### geolocation, sellers, products, customers, order_items, order_payments, order_reviews, orders"
   ]
  },
  {
   "cell_type": "code",
   "execution_count": 53,
   "id": "d818c7bd",
   "metadata": {},
   "outputs": [],
   "source": [
    "# PostgreSQL connection details\n",
    "username = \"postgres\"\n",
    "password = \"password\"\n",
    "host = \"localhost\"\n",
    "port = \"5432\"  # Specify port as a separate argument\n",
    "database = \"final_project\"\n",
    "\n",
    "# Create the SQLAlchemy engine\n",
    "engine = create_engine(f'postgresql+psycopg2://{username}:{password}@{host}:{port}/{database}')"
   ]
  },
  {
   "cell_type": "code",
   "execution_count": 54,
   "id": "e11d7608",
   "metadata": {},
   "outputs": [
    {
     "name": "stdout",
     "output_type": "stream",
     "text": [
      "Data successfully written to the 'customers' table.\n"
     ]
    }
   ],
   "source": [
    "geolocation_dataset.to_sql('geolocation', con=engine, if_exists='replace', index=False)\n",
    "# Print success message\n",
    "print(\"Data successfully written to the 'customers' table.\")"
   ]
  },
  {
   "cell_type": "code",
   "execution_count": 55,
   "id": "89c3b9b2",
   "metadata": {},
   "outputs": [
    {
     "name": "stdout",
     "output_type": "stream",
     "text": [
      "Data successfully written to the 'customers' table.\n"
     ]
    }
   ],
   "source": [
    "sellers_dataset.to_sql('sellers', con=engine, if_exists='replace', index=False)\n",
    "# Print success message\n",
    "print(\"Data successfully written to the 'customers' table.\")"
   ]
  },
  {
   "cell_type": "code",
   "execution_count": 56,
   "id": "a4fe0d5a-46ae-4b0a-aed6-26cf3ed6b353",
   "metadata": {},
   "outputs": [
    {
     "name": "stdout",
     "output_type": "stream",
     "text": [
      "Data successfully written to the 'customers' table.\n"
     ]
    }
   ],
   "source": [
    "products_dataset.to_sql('products', con=engine, if_exists='replace', index=False)\n",
    "#Print success message\n",
    "print(\"Data successfully written to the 'customers' table.\")"
   ]
  },
  {
   "cell_type": "code",
   "execution_count": 57,
   "id": "266880e6-d682-4f12-81eb-861c6bb518cd",
   "metadata": {},
   "outputs": [
    {
     "name": "stdout",
     "output_type": "stream",
     "text": [
      "Data successfully written to the 'customers' table.\n"
     ]
    }
   ],
   "source": [
    "customers_dataset.to_sql('customers', con=engine, if_exists='replace', index=False)\n",
    "# Print success message\n",
    "print(\"Data successfully written to the 'customers' table.\")"
   ]
  },
  {
   "cell_type": "code",
   "execution_count": 58,
   "id": "01d2c234-0c37-49c8-a140-ff0cbf11beb9",
   "metadata": {},
   "outputs": [
    {
     "name": "stdout",
     "output_type": "stream",
     "text": [
      "Data successfully written to the 'customers' table.\n"
     ]
    }
   ],
   "source": [
    "order_items_dataset.to_sql('order_items', con=engine, if_exists='replace', index=False)\n",
    "# Print success message\n",
    "print(\"Data successfully written to the 'customers' table.\")"
   ]
  },
  {
   "cell_type": "code",
   "execution_count": 59,
   "id": "18f16f3b-b3bc-487c-b16a-c25e67fab0a8",
   "metadata": {},
   "outputs": [
    {
     "name": "stdout",
     "output_type": "stream",
     "text": [
      "Data successfully written to the 'customers' table.\n"
     ]
    }
   ],
   "source": [
    "order_payments_dataset.to_sql('order_payments', con=engine, if_exists='replace', index=False)\n",
    "# Print success message\n",
    "print(\"Data successfully written to the 'customers' table.\")"
   ]
  },
  {
   "cell_type": "code",
   "execution_count": 60,
   "id": "c3e7d264-0344-4ec4-8d54-999762a80a6b",
   "metadata": {},
   "outputs": [
    {
     "name": "stdout",
     "output_type": "stream",
     "text": [
      "Data successfully written to the 'customers' table.\n"
     ]
    }
   ],
   "source": [
    "order_reviews_dataset.to_sql('order_reviews', con=engine, if_exists='replace', index=False)\n",
    "# Print success message\n",
    "print(\"Data successfully written to the 'customers' table.\")"
   ]
  },
  {
   "cell_type": "code",
   "execution_count": 61,
   "id": "4fd29254-a94f-4aeb-96de-27b21232a19e",
   "metadata": {},
   "outputs": [
    {
     "name": "stdout",
     "output_type": "stream",
     "text": [
      "Data successfully written to the 'customers' table.\n"
     ]
    }
   ],
   "source": [
    "# Write the DataFrame to PostgreSQL\n",
    "orders_dataset.to_sql('orders', con=engine, if_exists='replace', index=False)\n",
    "# Print success message\n",
    "print(\"Data successfully written to the 'customers' table.\")"
   ]
  },
  {
   "cell_type": "code",
   "execution_count": null,
   "id": "5232e9ad-389f-4f02-a285-be9d865fd9ed",
   "metadata": {},
   "outputs": [],
   "source": []
  }
 ],
 "metadata": {
  "kernelspec": {
   "display_name": "Python 3 (ipykernel)",
   "language": "python",
   "name": "python3"
  },
  "language_info": {
   "codemirror_mode": {
    "name": "ipython",
    "version": 3
   },
   "file_extension": ".py",
   "mimetype": "text/x-python",
   "name": "python",
   "nbconvert_exporter": "python",
   "pygments_lexer": "ipython3",
   "version": "3.12.4"
  }
 },
 "nbformat": 4,
 "nbformat_minor": 5
}
